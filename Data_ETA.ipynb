{
 "cells": [
  {
   "cell_type": "code",
   "execution_count": 1,
   "metadata": {},
   "outputs": [],
   "source": [
    "from suicide_squad.DataUtils import *\n",
    "from suicide_squad.DataProcessing import *"
   ]
  },
  {
   "cell_type": "code",
   "execution_count": 2,
   "metadata": {},
   "outputs": [
    {
     "name": "stdout",
     "output_type": "stream",
     "text": [
      "Downloading Files\n",
      "Converting Files to CSV\n",
      "Finished Downloading and Converting to CSV\n"
     ]
    },
    {
     "data": {
      "text/plain": [
       "['D:\\\\GitHub\\\\Suicide-SQuAD\\\\data\\\\original\\\\train-v1.1.csv',\n",
       " 'D:\\\\GitHub\\\\Suicide-SQuAD\\\\data\\\\original\\\\dev-v1.1.csv',\n",
       " 'D:\\\\GitHub\\\\Suicide-SQuAD\\\\data\\\\original\\\\train-v2.0.csv',\n",
       " 'D:\\\\GitHub\\\\Suicide-SQuAD\\\\data\\\\original\\\\dev-v2.0.csv']"
      ]
     },
     "execution_count": 2,
     "metadata": {},
     "output_type": "execute_result"
    }
   ],
   "source": [
    "squad_to_csv(files,download_folder)"
   ]
  },
  {
   "cell_type": "code",
   "execution_count": 3,
   "metadata": {
    "scrolled": true
   },
   "outputs": [
    {
     "name": "stdout",
     "output_type": "stream",
     "text": [
      "Downloading Files\n",
      "Downloading Files\n",
      "Converting Files to CSV\n",
      "Finished Downloading and Converting to CSV\n",
      "Converting Files to DataFrame\n",
      "Finished Downloading and Converting to DataFrame\n"
     ]
    }
   ],
   "source": [
    "dfs=squad_to_df(files,download_folder)"
   ]
  },
  {
   "cell_type": "code",
   "execution_count": 4,
   "metadata": {},
   "outputs": [
    {
     "data": {
      "text/plain": [
       "dict_keys(['train-v1.1', 'dev-v1.1', 'train-v2.0', 'dev-v2.0'])"
      ]
     },
     "execution_count": 4,
     "metadata": {},
     "output_type": "execute_result"
    }
   ],
   "source": [
    "dfs.keys()"
   ]
  },
  {
   "cell_type": "code",
   "execution_count": 5,
   "metadata": {},
   "outputs": [],
   "source": [
    "examples=dfs['train-v1.1'].dropna(subset=['answer_text'])"
   ]
  },
  {
   "cell_type": "raw",
   "metadata": {},
   "source": [
    " - doc_text: Document text\n",
    " - qa_id: unique id for the question\n",
    " - question_text:  A question.\n",
    " - is_impossible: It is not possible to answer the question\n",
    " - answer_text: Possible answer to the question\n",
    " - answer_start: index for where the answer begings"
   ]
  },
  {
   "cell_type": "code",
   "execution_count": 6,
   "metadata": {},
   "outputs": [
    {
     "data": {
      "text/html": [
       "<div>\n",
       "<style scoped>\n",
       "    .dataframe tbody tr th:only-of-type {\n",
       "        vertical-align: middle;\n",
       "    }\n",
       "\n",
       "    .dataframe tbody tr th {\n",
       "        vertical-align: top;\n",
       "    }\n",
       "\n",
       "    .dataframe thead th {\n",
       "        text-align: right;\n",
       "    }\n",
       "</style>\n",
       "<table border=\"1\" class=\"dataframe\">\n",
       "  <thead>\n",
       "    <tr style=\"text-align: right;\">\n",
       "      <th></th>\n",
       "      <th>doc_text</th>\n",
       "      <th>question_text</th>\n",
       "      <th>answer_start</th>\n",
       "      <th>answer_text</th>\n",
       "      <th>qa_id</th>\n",
       "      <th>is_impossible</th>\n",
       "    </tr>\n",
       "  </thead>\n",
       "  <tbody>\n",
       "    <tr>\n",
       "      <td>0</td>\n",
       "      <td>Architecturally, the school has a Catholic cha...</td>\n",
       "      <td>To whom did the Virgin Mary allegedly appear i...</td>\n",
       "      <td>515</td>\n",
       "      <td>Saint Bernadette Soubirous</td>\n",
       "      <td>5733be284776f41900661182</td>\n",
       "      <td>False</td>\n",
       "    </tr>\n",
       "    <tr>\n",
       "      <td>1</td>\n",
       "      <td>Architecturally, the school has a Catholic cha...</td>\n",
       "      <td>What is in front of the Notre Dame Main Building?</td>\n",
       "      <td>188</td>\n",
       "      <td>a copper statue of Christ</td>\n",
       "      <td>5733be284776f4190066117f</td>\n",
       "      <td>False</td>\n",
       "    </tr>\n",
       "    <tr>\n",
       "      <td>2</td>\n",
       "      <td>Architecturally, the school has a Catholic cha...</td>\n",
       "      <td>The Basilica of the Sacred heart at Notre Dame...</td>\n",
       "      <td>279</td>\n",
       "      <td>the Main Building</td>\n",
       "      <td>5733be284776f41900661180</td>\n",
       "      <td>False</td>\n",
       "    </tr>\n",
       "    <tr>\n",
       "      <td>3</td>\n",
       "      <td>Architecturally, the school has a Catholic cha...</td>\n",
       "      <td>What is the Grotto at Notre Dame?</td>\n",
       "      <td>381</td>\n",
       "      <td>a Marian place of prayer and reflection</td>\n",
       "      <td>5733be284776f41900661181</td>\n",
       "      <td>False</td>\n",
       "    </tr>\n",
       "    <tr>\n",
       "      <td>4</td>\n",
       "      <td>Architecturally, the school has a Catholic cha...</td>\n",
       "      <td>What sits on top of the Main Building at Notre...</td>\n",
       "      <td>92</td>\n",
       "      <td>a golden statue of the Virgin Mary</td>\n",
       "      <td>5733be284776f4190066117e</td>\n",
       "      <td>False</td>\n",
       "    </tr>\n",
       "  </tbody>\n",
       "</table>\n",
       "</div>"
      ],
      "text/plain": [
       "                                            doc_text  \\\n",
       "0  Architecturally, the school has a Catholic cha...   \n",
       "1  Architecturally, the school has a Catholic cha...   \n",
       "2  Architecturally, the school has a Catholic cha...   \n",
       "3  Architecturally, the school has a Catholic cha...   \n",
       "4  Architecturally, the school has a Catholic cha...   \n",
       "\n",
       "                                       question_text  answer_start  \\\n",
       "0  To whom did the Virgin Mary allegedly appear i...           515   \n",
       "1  What is in front of the Notre Dame Main Building?           188   \n",
       "2  The Basilica of the Sacred heart at Notre Dame...           279   \n",
       "3                  What is the Grotto at Notre Dame?           381   \n",
       "4  What sits on top of the Main Building at Notre...            92   \n",
       "\n",
       "                               answer_text                     qa_id  \\\n",
       "0               Saint Bernadette Soubirous  5733be284776f41900661182   \n",
       "1                a copper statue of Christ  5733be284776f4190066117f   \n",
       "2                        the Main Building  5733be284776f41900661180   \n",
       "3  a Marian place of prayer and reflection  5733be284776f41900661181   \n",
       "4       a golden statue of the Virgin Mary  5733be284776f4190066117e   \n",
       "\n",
       "   is_impossible  \n",
       "0          False  \n",
       "1          False  \n",
       "2          False  \n",
       "3          False  \n",
       "4          False  "
      ]
     },
     "execution_count": 6,
     "metadata": {},
     "output_type": "execute_result"
    }
   ],
   "source": [
    "examples.head()"
   ]
  },
  {
   "cell_type": "code",
   "execution_count": 7,
   "metadata": {},
   "outputs": [],
   "source": [
    "from transformers import BertTokenizer, BertForQuestionAnswering,BertConfig\n",
    "from transformers.tokenization_bert import BasicTokenizer, whitespace_tokenize\n",
    "\n",
    "\n",
    "tokenizer = BertTokenizer.from_pretrained('bert-base-uncased')"
   ]
  },
  {
   "cell_type": "code",
   "execution_count": 8,
   "metadata": {},
   "outputs": [],
   "source": [
    "def do(target):\n",
    "    text_id=' '.join([str(item) for item in tokenizer.encode(target.question_text,target.doc_text,max_length=512)[1:-1]])\n",
    "    answer_id=' '.join([str(item) for item in tokenizer.encode(target.answer_text,max_length=512)[1:-1]])\n",
    "    if((target.answer_text) and (target.question_text) and (target.doc_text)):\n",
    "        try:\n",
    "            matches=[match for match in re.finditer(answer_id, text_id)]\n",
    "            start=matches[0].start()\n",
    "            end=matches[0].end()\n",
    "            target['start_label']=len(text_id[:start].split(' '))\n",
    "            target['end_label']=len(answer_id.split(' '))+len(text_id[:start].split(' '))\n",
    "        except:\n",
    "            target['start_label']=0\n",
    "            target['end_label']=0\n",
    "        target['text']='[CLS] '+target['question_text']+' [SEP] '+target['doc_text']+' [SEP]'\n",
    "    return target\n",
    "\n",
    "out=examples.apply(lambda x:do(x),axis=1)"
   ]
  },
  {
   "cell_type": "code",
   "execution_count": 9,
   "metadata": {},
   "outputs": [],
   "source": [
    "# out.to_csv(os.path.join(target_folder,'dev_v1_1.csv'))"
   ]
  },
  {
   "cell_type": "code",
   "execution_count": 71,
   "metadata": {},
   "outputs": [],
   "source": [
    "# with torch.no_grad():\n",
    "#     for data_item in test_dataloader:\n",
    "#         bert_model_output: Tuple[torch.Tensor, torch.Tensor] = bert_qa_module(input_ids = data_item[0], token_type_ids =\n",
    "#         data_item[1], attention_mask = data_item[4], output_all_encoded_layers = False)\n",
    "\n",
    "#         answer_start_index_batch_as_matrix = data_item[2].unsqueeze(dim = 1).to(device = device)\n",
    "#         answer_end_index_batch_as_matrix = data_item[3].unsqueeze(dim = 1).to(device = device)\n",
    "\n",
    "#         answer_start_index_loss = loss_function(bert_model_output[0], answer_start_index_batch_as_matrix)\n",
    "#         answer_end_index_loss = loss_function(bert_model_output[1], answer_end_index_batch_as_matrix)\n",
    "#         total_loss = answer_start_index_loss + answer_end_index_loss"
   ]
  },
  {
   "cell_type": "code",
   "execution_count": 492,
   "metadata": {},
   "outputs": [],
   "source": []
  }
 ],
 "metadata": {
  "kernelspec": {
   "display_name": "Python [conda env:devenv] *",
   "language": "python",
   "name": "conda-env-devenv-py"
  },
  "language_info": {
   "codemirror_mode": {
    "name": "ipython",
    "version": 3
   },
   "file_extension": ".py",
   "mimetype": "text/x-python",
   "name": "python",
   "nbconvert_exporter": "python",
   "pygments_lexer": "ipython3",
   "version": "3.7.3"
  }
 },
 "nbformat": 4,
 "nbformat_minor": 2
}

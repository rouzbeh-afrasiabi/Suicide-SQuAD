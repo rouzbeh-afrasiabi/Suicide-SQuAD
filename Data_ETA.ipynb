{
 "cells": [
  {
   "cell_type": "code",
   "execution_count": 1,
   "metadata": {},
   "outputs": [],
   "source": [
    "from suicide_squad.DataUtils import *\n",
    "from suicide_squad.DataProcessing import *"
   ]
  },
  {
   "cell_type": "code",
   "execution_count": 2,
   "metadata": {},
   "outputs": [
    {
     "name": "stdout",
     "output_type": "stream",
     "text": [
      "Downloading Files\n",
      "Converting Files to CSV\n",
      "Finished Downloading and Converting to CSV\n"
     ]
    },
    {
     "data": {
      "text/plain": [
       "['D:\\\\GitHub\\\\Suicide-SQuAD\\\\data\\\\original\\\\train-v1.1.csv',\n",
       " 'D:\\\\GitHub\\\\Suicide-SQuAD\\\\data\\\\original\\\\dev-v1.1.csv',\n",
       " 'D:\\\\GitHub\\\\Suicide-SQuAD\\\\data\\\\original\\\\train-v2.0.csv',\n",
       " 'D:\\\\GitHub\\\\Suicide-SQuAD\\\\data\\\\original\\\\dev-v2.0.csv']"
      ]
     },
     "execution_count": 2,
     "metadata": {},
     "output_type": "execute_result"
    }
   ],
   "source": [
    "squad_to_csv(files,download_folder)"
   ]
  },
  {
   "cell_type": "code",
   "execution_count": 3,
   "metadata": {
    "scrolled": true
   },
   "outputs": [
    {
     "name": "stdout",
     "output_type": "stream",
     "text": [
      "Downloading Files\n",
      "Downloading Files\n",
      "Converting Files to CSV\n",
      "Finished Downloading and Converting to CSV\n",
      "Converting Files to DataFrame\n",
      "Finished Downloading and Converting to DataFrame\n"
     ]
    }
   ],
   "source": [
    "dfs=squad_to_df(files,download_folder)"
   ]
  },
  {
   "cell_type": "code",
   "execution_count": 4,
   "metadata": {},
   "outputs": [
    {
     "data": {
      "text/plain": [
       "dict_keys(['train-v1.1', 'dev-v1.1', 'train-v2.0', 'dev-v2.0'])"
      ]
     },
     "execution_count": 4,
     "metadata": {},
     "output_type": "execute_result"
    }
   ],
   "source": [
    "dfs.keys()"
   ]
  },
  {
   "cell_type": "code",
   "execution_count": 6,
   "metadata": {},
   "outputs": [
    {
     "data": {
      "text/html": [
       "<div>\n",
       "<style scoped>\n",
       "    .dataframe tbody tr th:only-of-type {\n",
       "        vertical-align: middle;\n",
       "    }\n",
       "\n",
       "    .dataframe tbody tr th {\n",
       "        vertical-align: top;\n",
       "    }\n",
       "\n",
       "    .dataframe thead th {\n",
       "        text-align: right;\n",
       "    }\n",
       "</style>\n",
       "<table border=\"1\" class=\"dataframe\">\n",
       "  <thead>\n",
       "    <tr style=\"text-align: right;\">\n",
       "      <th></th>\n",
       "      <th>doc_text</th>\n",
       "      <th>question_text</th>\n",
       "      <th>answer_start</th>\n",
       "      <th>answer_text</th>\n",
       "      <th>qa_id</th>\n",
       "      <th>is_impossible</th>\n",
       "    </tr>\n",
       "  </thead>\n",
       "  <tbody>\n",
       "    <tr>\n",
       "      <td>0</td>\n",
       "      <td>Architecturally, the school has a Catholic cha...</td>\n",
       "      <td>To whom did the Virgin Mary allegedly appear i...</td>\n",
       "      <td>515</td>\n",
       "      <td>Saint Bernadette Soubirous</td>\n",
       "      <td>5733be284776f41900661182</td>\n",
       "      <td>False</td>\n",
       "    </tr>\n",
       "    <tr>\n",
       "      <td>1</td>\n",
       "      <td>Architecturally, the school has a Catholic cha...</td>\n",
       "      <td>What is in front of the Notre Dame Main Building?</td>\n",
       "      <td>188</td>\n",
       "      <td>a copper statue of Christ</td>\n",
       "      <td>5733be284776f4190066117f</td>\n",
       "      <td>False</td>\n",
       "    </tr>\n",
       "    <tr>\n",
       "      <td>2</td>\n",
       "      <td>Architecturally, the school has a Catholic cha...</td>\n",
       "      <td>The Basilica of the Sacred heart at Notre Dame...</td>\n",
       "      <td>279</td>\n",
       "      <td>the Main Building</td>\n",
       "      <td>5733be284776f41900661180</td>\n",
       "      <td>False</td>\n",
       "    </tr>\n",
       "    <tr>\n",
       "      <td>3</td>\n",
       "      <td>Architecturally, the school has a Catholic cha...</td>\n",
       "      <td>What is the Grotto at Notre Dame?</td>\n",
       "      <td>381</td>\n",
       "      <td>a Marian place of prayer and reflection</td>\n",
       "      <td>5733be284776f41900661181</td>\n",
       "      <td>False</td>\n",
       "    </tr>\n",
       "    <tr>\n",
       "      <td>4</td>\n",
       "      <td>Architecturally, the school has a Catholic cha...</td>\n",
       "      <td>What sits on top of the Main Building at Notre...</td>\n",
       "      <td>92</td>\n",
       "      <td>a golden statue of the Virgin Mary</td>\n",
       "      <td>5733be284776f4190066117e</td>\n",
       "      <td>False</td>\n",
       "    </tr>\n",
       "    <tr>\n",
       "      <td>...</td>\n",
       "      <td>...</td>\n",
       "      <td>...</td>\n",
       "      <td>...</td>\n",
       "      <td>...</td>\n",
       "      <td>...</td>\n",
       "      <td>...</td>\n",
       "    </tr>\n",
       "    <tr>\n",
       "      <td>87594</td>\n",
       "      <td>Kathmandu Metropolitan City (KMC), in order to...</td>\n",
       "      <td>In what US state did Kathmandu first establish...</td>\n",
       "      <td>229</td>\n",
       "      <td>Oregon</td>\n",
       "      <td>5735d259012e2f140011a09d</td>\n",
       "      <td>False</td>\n",
       "    </tr>\n",
       "    <tr>\n",
       "      <td>87595</td>\n",
       "      <td>Kathmandu Metropolitan City (KMC), in order to...</td>\n",
       "      <td>What was Yangon previously known as?</td>\n",
       "      <td>414</td>\n",
       "      <td>Rangoon</td>\n",
       "      <td>5735d259012e2f140011a09e</td>\n",
       "      <td>False</td>\n",
       "    </tr>\n",
       "    <tr>\n",
       "      <td>87596</td>\n",
       "      <td>Kathmandu Metropolitan City (KMC), in order to...</td>\n",
       "      <td>With what Belorussian city does Kathmandu have...</td>\n",
       "      <td>476</td>\n",
       "      <td>Minsk</td>\n",
       "      <td>5735d259012e2f140011a09f</td>\n",
       "      <td>False</td>\n",
       "    </tr>\n",
       "    <tr>\n",
       "      <td>87597</td>\n",
       "      <td>Kathmandu Metropolitan City (KMC), in order to...</td>\n",
       "      <td>In what year did Kathmandu create its initial ...</td>\n",
       "      <td>199</td>\n",
       "      <td>1975</td>\n",
       "      <td>5735d259012e2f140011a0a0</td>\n",
       "      <td>False</td>\n",
       "    </tr>\n",
       "    <tr>\n",
       "      <td>87598</td>\n",
       "      <td>Kathmandu Metropolitan City (KMC), in order to...</td>\n",
       "      <td>What is KMC an initialism of?</td>\n",
       "      <td>0</td>\n",
       "      <td>Kathmandu Metropolitan City</td>\n",
       "      <td>5735d259012e2f140011a0a1</td>\n",
       "      <td>False</td>\n",
       "    </tr>\n",
       "  </tbody>\n",
       "</table>\n",
       "<p>87599 rows × 6 columns</p>\n",
       "</div>"
      ],
      "text/plain": [
       "                                                doc_text  \\\n",
       "0      Architecturally, the school has a Catholic cha...   \n",
       "1      Architecturally, the school has a Catholic cha...   \n",
       "2      Architecturally, the school has a Catholic cha...   \n",
       "3      Architecturally, the school has a Catholic cha...   \n",
       "4      Architecturally, the school has a Catholic cha...   \n",
       "...                                                  ...   \n",
       "87594  Kathmandu Metropolitan City (KMC), in order to...   \n",
       "87595  Kathmandu Metropolitan City (KMC), in order to...   \n",
       "87596  Kathmandu Metropolitan City (KMC), in order to...   \n",
       "87597  Kathmandu Metropolitan City (KMC), in order to...   \n",
       "87598  Kathmandu Metropolitan City (KMC), in order to...   \n",
       "\n",
       "                                           question_text  answer_start  \\\n",
       "0      To whom did the Virgin Mary allegedly appear i...           515   \n",
       "1      What is in front of the Notre Dame Main Building?           188   \n",
       "2      The Basilica of the Sacred heart at Notre Dame...           279   \n",
       "3                      What is the Grotto at Notre Dame?           381   \n",
       "4      What sits on top of the Main Building at Notre...            92   \n",
       "...                                                  ...           ...   \n",
       "87594  In what US state did Kathmandu first establish...           229   \n",
       "87595               What was Yangon previously known as?           414   \n",
       "87596  With what Belorussian city does Kathmandu have...           476   \n",
       "87597  In what year did Kathmandu create its initial ...           199   \n",
       "87598                      What is KMC an initialism of?             0   \n",
       "\n",
       "                                   answer_text                     qa_id  \\\n",
       "0                   Saint Bernadette Soubirous  5733be284776f41900661182   \n",
       "1                    a copper statue of Christ  5733be284776f4190066117f   \n",
       "2                            the Main Building  5733be284776f41900661180   \n",
       "3      a Marian place of prayer and reflection  5733be284776f41900661181   \n",
       "4           a golden statue of the Virgin Mary  5733be284776f4190066117e   \n",
       "...                                        ...                       ...   \n",
       "87594                                   Oregon  5735d259012e2f140011a09d   \n",
       "87595                                  Rangoon  5735d259012e2f140011a09e   \n",
       "87596                                    Minsk  5735d259012e2f140011a09f   \n",
       "87597                                     1975  5735d259012e2f140011a0a0   \n",
       "87598              Kathmandu Metropolitan City  5735d259012e2f140011a0a1   \n",
       "\n",
       "       is_impossible  \n",
       "0              False  \n",
       "1              False  \n",
       "2              False  \n",
       "3              False  \n",
       "4              False  \n",
       "...              ...  \n",
       "87594          False  \n",
       "87595          False  \n",
       "87596          False  \n",
       "87597          False  \n",
       "87598          False  \n",
       "\n",
       "[87599 rows x 6 columns]"
      ]
     },
     "execution_count": 6,
     "metadata": {},
     "output_type": "execute_result"
    }
   ],
   "source": [
    "dfs['train-v1.1']"
   ]
  },
  {
   "cell_type": "raw",
   "metadata": {},
   "source": [
    " - doc_text: Document text\n",
    " - qa_id: unique id for the question\n",
    " - question_text:  A question.\n",
    " - is_impossible: It is not possible to answer the question\n",
    " - answer_text: Possible answer to the question\n",
    " - answer_start: index for where the answer begings"
   ]
  }
 ],
 "metadata": {
  "kernelspec": {
   "display_name": "Python [conda env:devenv] *",
   "language": "python",
   "name": "conda-env-devenv-py"
  },
  "language_info": {
   "codemirror_mode": {
    "name": "ipython",
    "version": 3
   },
   "file_extension": ".py",
   "mimetype": "text/x-python",
   "name": "python",
   "nbconvert_exporter": "python",
   "pygments_lexer": "ipython3",
   "version": "3.7.3"
  }
 },
 "nbformat": 4,
 "nbformat_minor": 2
}
